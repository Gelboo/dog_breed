{
 "cells": [
  {
   "cell_type": "markdown",
   "metadata": {},
   "source": [
    "# Artificial Intelligence Nanodegree\n",
    "\n",
    "## Convolutional Neural Networks\n",
    "\n",
    "## Project: Write an Algorithm for a Dog Identification App \n",
    "\n",
    "---\n",
    "\n",
    "In this notebook, some template code has already been provided for you, and you will need to implement additional functionality to successfully complete this project. You will not need to modify the included code beyond what is requested. Sections that begin with **'(IMPLEMENTATION)'** in the header indicate that the following block of code will require additional functionality which you must provide. Instructions will be provided for each section, and the specifics of the implementation are marked in the code block with a 'TODO' statement. Please be sure to read the instructions carefully! \n",
    "\n",
    "> **Note**: Once you have completed all of the code implementations, you need to finalize your work by exporting the iPython Notebook as an HTML document. Before exporting the notebook to html, all of the code cells need to have been run so that reviewers can see the final implementation and output. You can then export the notebook by using the menu above and navigating to  \\n\",\n",
    "    \"**File -> Download as -> HTML (.html)**. Include the finished document along with this notebook as your submission.\n",
    "\n",
    "In addition to implementing code, there will be questions that you must answer which relate to the project and your implementation. Each section where you will answer a question is preceded by a **'Question X'** header. Carefully read each question and provide thorough answers in the following text boxes that begin with **'Answer:'**. Your project submission will be evaluated based on your answers to each of the questions and the implementation you provide.\n",
    "\n",
    ">**Note:** Code and Markdown cells can be executed using the **Shift + Enter** keyboard shortcut.  Markdown cells can be edited by double-clicking the cell to enter edit mode.\n",
    "\n",
    "The rubric contains _optional_ \"Stand Out Suggestions\" for enhancing the project beyond the minimum requirements. If you decide to pursue the \"Stand Out Suggestions\", you should include the code in this IPython notebook.\n",
    "\n",
    "\n",
    "\n",
    "---\n",
    "### Why We're Here \n",
    "\n",
    "In this notebook, you will make the first steps towards developing an algorithm that could be used as part of a mobile or web app.  At the end of this project, your code will accept any user-supplied image as input.  If a dog is detected in the image, it will provide an estimate of the dog's breed.  If a human is detected, it will provide an estimate of the dog breed that is most resembling.  The image below displays potential sample output of your finished project (... but we expect that each student's algorithm will behave differently!). \n",
    "\n",
    "![Sample Dog Output](images/sample_dog_output.png)\n",
    "\n",
    "In this real-world setting, you will need to piece together a series of models to perform different tasks; for instance, the algorithm that detects humans in an image will be different from the CNN that infers dog breed.  There are many points of possible failure, and no perfect algorithm exists.  Your imperfect solution will nonetheless create a fun user experience!\n",
    "\n",
    "### The Road Ahead\n",
    "\n",
    "We break the notebook into separate steps.  Feel free to use the links below to navigate the notebook.\n",
    "\n",
    "* [Step 0](#step0): Import Datasets\n",
    "* [Step 1](#step1): Detect Humans\n",
    "* [Step 2](#step2): Detect Dogs\n",
    "* [Step 3](#step3): Create a CNN to Classify Dog Breeds (from Scratch)\n",
    "* [Step 4](#step4): Use a CNN to Classify Dog Breeds (using Transfer Learning)\n",
    "* [Step 5](#step5): Create a CNN to Classify Dog Breeds (using Transfer Learning)\n",
    "* [Step 6](#step6): Write your Algorithm\n",
    "* [Step 7](#step7): Test Your Algorithm\n",
    "\n",
    "---\n",
    "<a id='step0'></a>\n",
    "## Step 0: Import Datasets\n",
    "\n",
    "### Import Dog Dataset\n",
    "\n",
    "In the code cell below, we import a dataset of dog images.  We populate a few variables through the use of the `load_files` function from the scikit-learn library:\n",
    "- `train_files`, `valid_files`, `test_files` - numpy arrays containing file paths to images\n",
    "- `train_targets`, `valid_targets`, `test_targets` - numpy arrays containing onehot-encoded classification labels \n",
    "- `dog_names` - list of string-valued dog breed names for translating labels"
   ]
  },
  {
   "cell_type": "code",
   "execution_count": 1,
   "metadata": {
    "collapsed": true
   },
   "outputs": [
    {
     "name": "stderr",
     "output_type": "stream",
     "text": [
      "/home/gelb/.virtualenvs/cv/local/lib/python2.7/site-packages/h5py/__init__.py:36: FutureWarning: Conversion of the second argument of issubdtype from `float` to `np.floating` is deprecated. In future, it will be treated as `np.float64 == np.dtype(float).type`.\n",
      "  from ._conv import register_converters as _register_converters\n",
      "Using TensorFlow backend.\n"
     ]
    },
    {
     "name": "stdout",
     "output_type": "stream",
     "text": [
      "There are 133 total dog categories.\n",
      "There are 8351 total dog images.\n",
      "\n",
      "There are 6680 training dog images.\n",
      "There are 835 validation dog images.\n",
      "There are 836 test dog images.\n"
     ]
    }
   ],
   "source": [
    "from sklearn.datasets import load_files       \n",
    "from keras.utils import np_utils\n",
    "import numpy as np\n",
    "from glob import glob\n",
    "\n",
    "# define function to load train, test, and validation datasets\n",
    "def load_dataset(path):\n",
    "    data = load_files(path)\n",
    "    dog_files = np.array(data['filenames'])\n",
    "    dog_targets = np_utils.to_categorical(np.array(data['target']), 133)\n",
    "    return dog_files, dog_targets\n",
    "\n",
    "# load train, test, and validation datasets\n",
    "train_files, train_targets = load_dataset('dogImages/train')\n",
    "valid_files, valid_targets = load_dataset('dogImages/valid')\n",
    "test_files, test_targets = load_dataset('dogImages/test')\n",
    "\n",
    "# load list of dog names\n",
    "dog_names = [item[20:-1] for item in sorted(glob(\"dogImages/train/*/\"))]\n",
    "\n",
    "# print statistics about the dataset\n",
    "print('There are %d total dog categories.' % len(dog_names))\n",
    "print('There are %s total dog images.\\n' % len(np.hstack([train_files, valid_files, test_files])))\n",
    "print('There are %d training dog images.' % len(train_files))\n",
    "print('There are %d validation dog images.' % len(valid_files))\n",
    "print('There are %d test dog images.'% len(test_files))"
   ]
  },
  {
   "cell_type": "markdown",
   "metadata": {},
   "source": [
    "### Import Human Dataset\n",
    "\n",
    "In the code cell below, we import a dataset of human images, where the file paths are stored in the numpy array `human_files`."
   ]
  },
  {
   "cell_type": "code",
   "execution_count": 2,
   "metadata": {
    "collapsed": true
   },
   "outputs": [
    {
     "name": "stdout",
     "output_type": "stream",
     "text": [
      "There are 13233 total human images.\n"
     ]
    }
   ],
   "source": [
    "import random\n",
    "random.seed(8675309)\n",
    "\n",
    "# load filenames in shuffled human dataset\n",
    "human_files = np.array(glob(\"lfw/*/*\"))\n",
    "random.shuffle(human_files)\n",
    "\n",
    "# print statistics about the dataset\n",
    "print('There are %d total human images.' % len(human_files))"
   ]
  },
  {
   "cell_type": "markdown",
   "metadata": {},
   "source": [
    "---\n",
    "<a id='step1'></a>\n",
    "## Step 1: Detect Humans\n",
    "\n",
    "We use OpenCV's implementation of [Haar feature-based cascade classifiers](http://docs.opencv.org/trunk/d7/d8b/tutorial_py_face_detection.html) to detect human faces in images.  OpenCV provides many pre-trained face detectors, stored as XML files on [github](https://github.com/opencv/opencv/tree/master/data/haarcascades).  We have downloaded one of these detectors and stored it in the `haarcascades` directory.\n",
    "\n",
    "In the next code cell, we demonstrate how to use this detector to find human faces in a sample image."
   ]
  },
  {
   "cell_type": "code",
   "execution_count": 3,
   "metadata": {
    "collapsed": true
   },
   "outputs": [
    {
     "name": "stdout",
     "output_type": "stream",
     "text": [
      "('Number of faces detected:', 1)\n"
     ]
    },
    {
     "data": {
      "image/png": "[encoded data removed]",
      "text/plain": [
       "<matplotlib.figure.Figure at 0x7f573dc7a250>"
      ]
     },
     "metadata": {},
     "output_type": "display_data"
    }
   ],
   "source": [
    "import cv2                \n",
    "import matplotlib.pyplot as plt                        \n",
    "%matplotlib inline                               \n",
    "\n",
    "# extract pre-trained face detector\n",
    "face_cascade = cv2.CascadeClassifier('haarcascades/haarcascade_frontalface_alt.xml')\n",
    "\n",
    "# load color (BGR) image\n",
    "img = cv2.imread(human_files[3])\n",
    "# convert BGR image to grayscale\n",
    "gray = cv2.cvtColor(img, cv2.COLOR_BGR2GRAY)\n",
    "\n",
    "# find faces in image\n",
    "faces = face_cascade.detectMultiScale(gray)\n",
    "\n",
    "# print number of faces detected in the image\n",
    "print('Number of faces detected:', len(faces))\n",
    "\n",
    "# get bounding box for each detected face\n",
    "for (x,y,w,h) in faces:\n",
    "    # add bounding box to color image\n",
    "    cv2.rectangle(img,(x,y),(x+w,y+h),(255,0,0),2)\n",
    "    \n",
    "# convert BGR image to RGB for plotting\n",
    "cv_rgb = cv2.cvtColor(img, cv2.COLOR_BGR2RGB)\n",
    "\n",
    "# display the image, along with bounding box\n",
    "plt.imshow(cv_rgb)\n",
    "plt.show()"
   ]
  },
  {
   "cell_type": "markdown",
   "metadata": {},
   "source": [
    "Before using any of the face detectors, it is standard procedure to convert the images to grayscale.  The `detectMultiScale` function executes the classifier stored in `face_cascade` and takes the grayscale image as a parameter.  \n",
    "\n",
    "In the above code, `faces` is a numpy array of detected faces, where each row corresponds to a detected face.  Each detected face is a 1D array with four entries that specifies the bounding box of the detected face.  The first two entries in the array (extracted in the above code as `x` and `y`) specify the horizontal and vertical positions of the top left corner of the bounding box.  The last two entries in the array (extracted here as `w` and `h`) specify the width and height of the box.\n",
    "\n",
    "### Write a Human Face Detector\n",
    "\n",
    "We can use this procedure to write a function that returns `True` if a human face is detected in an image and `False` otherwise.  This function, aptly named `face_detector`, takes a string-valued file path to an image as input and appears in the code block below."
   ]
  },
  {
   "cell_type": "code",
   "execution_count": 4,
   "metadata": {
    "collapsed": true
   },
   "outputs": [],
   "source": [
    "# returns \"True\" if face is detected in image stored at img_path\n",
    "def face_detector(img_path):\n",
    "    img = cv2.imread(img_path)\n",
    "    gray = cv2.cvtColor(img, cv2.COLOR_BGR2GRAY)\n",
    "    faces = face_cascade.detectMultiScale(gray)\n",
    "    return len(faces) > 0"
   ]
  },
  {
   "cell_type": "markdown",
   "metadata": {},
   "source": [
    "### (IMPLEMENTATION) Assess the Human Face Detector\n",
    "\n",
    "__Question 1:__ Use the code cell below to test the performance of the `face_detector` function.  \n",
    "- What percentage of the first 100 images in `human_files` have a detected human face?  \n",
    "- What percentage of the first 100 images in `dog_files` have a detected human face? \n",
    "\n",
    "Ideally, we would like 100% of human images with a detected face and 0% of dog images with a detected face.  You will see that our algorithm falls short of this goal, but still gives acceptable performance.  We extract the file paths for the first 100 images from each of the datasets and store them in the numpy arrays `human_files_short` and `dog_files_short`.\n",
    "\n",
    "__Answer:__ \n",
    "\n",
    " there are 100% of human_files have detected human\n",
    " \n",
    " there are 11 % of dog_files have detected human"
   ]
  },
  {
   "cell_type": "code",
   "execution_count": 5,
   "metadata": {
    "collapsed": true
   },
   "outputs": [
    {
     "name": "stdout",
     "output_type": "stream",
     "text": [
      "human percent 100 %\n",
      "dog percent 11 %\n"
     ]
    }
   ],
   "source": [
    "human_files_short = human_files[:100]\n",
    "dog_files_short = train_files[:100]\n",
    "# Do NOT modify the code above this line.\n",
    "\n",
    "## TODO: Test the performance of the face_detector algorithm \n",
    "## on the images in human_files_short and dog_files_short.\n",
    "human = 0\n",
    "dog = 0\n",
    "for h in human_files_short:\n",
    "    if face_detector(h):\n",
    "        human += 1\n",
    "for d in dog_files_short:\n",
    "    if face_detector(d):\n",
    "        dog += 1\n",
    "print ('human percent {} %'.format(human))\n",
    "print ('dog percent {} %'.format(dog))"
   ]
  },
  {
   "cell_type": "code",
   "execution_count": 52,
   "metadata": {},
   "outputs": [
    {
     "data": {
      "text/plain": [
       "True"
      ]
     },
     "execution_count": 52,
     "metadata": {},
     "output_type": "execute_result"
    }
   ],
   "source": [
    "face_detector('lfw/Will_Ferrell/Will_Ferrell_0001.jpg')"
   ]
  },
  {
   "cell_type": "markdown",
   "metadata": {},
   "source": [
    "__Question 2:__ This algorithmic choice necessitates that we communicate to the user that we accept human images only when they provide a clear view of a face (otherwise, we risk having unneccessarily frustrated users!). In your opinion, is this a reasonable expectation to pose on the user? If not, can you think of a way to detect humans in images that does not necessitate an image with a clearly presented face?\n",
    "\n",
    "__Answer:__\n",
    "\n",
    "We suggest the face detector from OpenCV as a potential way to detect human images in your algorithm, but you are free to explore other approaches, especially approaches that make use of deep learning :).  Please use the code cell below to design and test your own face detection algorithm.  If you decide to pursue this _optional_ task, report performance on each of the datasets.\n",
    "\n",
    "** Answer **\n",
    "No I don't think this reasonable expectation to pose on the user , I could build CNN model with better accuracy or use transfer learning to classifiy image from images contain human and other images"
   ]
  },
  {
   "cell_type": "markdown",
   "metadata": {},
   "source": [
    "---\n",
    "<a id='step2'></a>\n",
    "## Step 2: Detect Dogs\n",
    "\n",
    "In this section, we use a pre-trained [ResNet-50](http://ethereon.github.io/netscope/#/gist/db945b393d40bfa26006) model to detect dogs in images.  Our first line of code downloads the ResNet-50 model, along with weights that have been trained on [ImageNet](http://www.image-net.org/), a very large, very popular dataset used for image classification and other vision tasks.  ImageNet contains over 10 million URLs, each linking to an image containing an object from one of [1000 categories](https://gist.github.com/yrevar/942d3a0ac09ec9e5eb3a).  Given an image, this pre-trained ResNet-50 model returns a prediction (derived from the available categories in ImageNet) for the object that is contained in the image."
   ]
  },
  {
   "cell_type": "code",
   "execution_count": 87,
   "metadata": {
    "collapsed": true
   },
   "outputs": [],
   "source": [
    "from keras.applications.resnet50 import ResNet50\n",
    "\n",
    "# define ResNet50 model\n",
    "ResNet50_model = ResNet50(weights='imagenet')"
   ]
  },
  {
   "cell_type": "markdown",
   "metadata": {},
   "source": [
    "### Pre-process the Data\n",
    "\n",
    "When using TensorFlow as backend, Keras CNNs require a 4D array (which we'll also refer to as a 4D tensor) as input, with shape\n",
    "\n",
    "$$\n",
    "(\\text{nb_samples}, \\text{rows}, \\text{columns}, \\text{channels}),\n",
    "$$\n",
    "\n",
    "where `nb_samples` corresponds to the total number of images (or samples), and `rows`, `columns`, and `channels` correspond to the number of rows, columns, and channels for each image, respectively.  \n",
    "\n",
    "The `path_to_tensor` function below takes a string-valued file path to a color image as input and returns a 4D tensor suitable for supplying to a Keras CNN.  The function first loads the image and resizes it to a square image that is $224 \\times 224$ pixels.  Next, the image is converted to an array, which is then resized to a 4D tensor.  In this case, since we are working with color images, each image has three channels.  Likewise, since we are processing a single image (or sample), the returned tensor will always have shape\n",
    "\n",
    "$$\n",
    "(1, 224, 224, 3).\n",
    "$$\n",
    "\n",
    "The `paths_to_tensor` function takes a numpy array of string-valued image paths as input and returns a 4D tensor with shape \n",
    "\n",
    "$$\n",
    "(\\text{nb_samples}, 224, 224, 3).\n",
    "$$\n",
    "\n",
    "Here, `nb_samples` is the number of samples, or number of images, in the supplied array of image paths.  It is best to think of `nb_samples` as the number of 3D tensors (where each 3D tensor corresponds to a different image) in your dataset!"
   ]
  },
  {
   "cell_type": "code",
   "execution_count": 88,
   "metadata": {
    "collapsed": true
   },
   "outputs": [],
   "source": [
    "from keras.preprocessing import image                  \n",
    "from tqdm import tqdm\n",
    "\n",
    "def path_to_tensor(img_path):\n",
    "    # loads RGB image as PIL.Image.Image type\n",
    "    img = image.load_img(img_path, target_size=(224, 224))\n",
    "    # convert PIL.Image.Image type to 3D tensor with shape (224, 224, 3)\n",
    "    x = image.img_to_array(img)\n",
    "    # convert 3D tensor to 4D tensor with shape (1, 224, 224, 3) and return 4D tensor\n",
    "    return np.expand_dims(x, axis=0)\n",
    "\n",
    "def paths_to_tensor(img_paths):\n",
    "    list_of_tensors = [path_to_tensor(img_path) for img_path in tqdm(img_paths)]\n",
    "    return np.vstack(list_of_tensors)"
   ]
  },
  {
   "cell_type": "markdown",
   "metadata": {},
   "source": [
    "### Making Predictions with ResNet-50\n",
    "\n",
    "Getting the 4D tensor ready for ResNet-50, and for any other pre-trained model in Keras, requires some additional processing.  First, the RGB image is converted to BGR by reordering the channels.  All pre-trained models have the additional normalization step that the mean pixel (expressed in RGB as $[103.939, 116.779, 123.68]$ and calculated from all pixels in all images in ImageNet) must be subtracted from every pixel in each image.  This is implemented in the imported function `preprocess_input`.  If you're curious, you can check the code for `preprocess_input` [here](https://github.com/fchollet/keras/blob/master/keras/applications/imagenet_utils.py).\n",
    "\n",
    "Now that we have a way to format our image for supplying to ResNet-50, we are now ready to use the model to extract the predictions.  This is accomplished with the `predict` method, which returns an array whose $i$-th entry is the model's predicted probability that the image belongs to the $i$-th ImageNet category.  This is implemented in the `ResNet50_predict_labels` function below.\n",
    "\n",
    "By taking the argmax of the predicted probability vector, we obtain an integer corresponding to the model's predicted object class, which we can identify with an object category through the use of this [dictionary](https://gist.github.com/yrevar/942d3a0ac09ec9e5eb3a). "
   ]
  },
  {
   "cell_type": "code",
   "execution_count": 89,
   "metadata": {
    "collapsed": true
   },
   "outputs": [],
   "source": [
    "from keras.applications.resnet50 import preprocess_input, decode_predictions\n",
    "\n",
    "def ResNet50_predict_labels(img_path):\n",
    "    # returns prediction vector for image located at img_path\n",
    "    img = preprocess_input(path_to_tensor(img_path))\n",
    "    return np.argmax(ResNet50_model.predict(img))"
   ]
  },
  {
   "cell_type": "markdown",
   "metadata": {},
   "source": [
    "### Write a Dog Detector\n",
    "\n",
    "While looking at the [dictionary](https://gist.github.com/yrevar/942d3a0ac09ec9e5eb3a), you will notice that the categories corresponding to dogs appear in an uninterrupted sequence and correspond to dictionary keys 151-268, inclusive, to include all categories from `'Chihuahua'` to `'Mexican hairless'`.  Thus, in order to check to see if an image is predicted to contain a dog by the pre-trained ResNet-50 model, we need only check if the `ResNet50_predict_labels` function above returns a value between 151 and 268 (inclusive).\n",
    "\n",
    "We use these ideas to complete the `dog_detector` function below, which returns `True` if a dog is detected in an image (and `False` if not)."
   ]
  },
  {
   "cell_type": "code",
   "execution_count": 90,
   "metadata": {
    "collapsed": true
   },
   "outputs": [],
   "source": [
    "### returns \"True\" if a dog is detected in the image stored at img_path\n",
    "def dog_detector(img_path):\n",
    "    prediction = ResNet50_predict_labels(img_path)\n",
    "    return ((prediction <= 268) & (prediction >= 151)) "
   ]
  },
  {
   "cell_type": "code",
   "execution_count": 91,
   "metadata": {},
   "outputs": [
    {
     "data": {
      "text/plain": [
       "True"
      ]
     },
     "execution_count": 91,
     "metadata": {},
     "output_type": "execute_result"
    }
   ],
   "source": [
    "dog_detector('dogImages/test/095.Kuvasz/Kuvasz_06409.jpg')"
   ]
  },
  {
   "cell_type": "markdown",
   "metadata": {},
   "source": [
    "### (IMPLEMENTATION) Assess the Dog Detector\n",
    "\n",
    "__Question 3:__ Use the code cell below to test the performance of your `dog_detector` function.  \n",
    "- What percentage of the images in `human_files_short` have a detected dog?  \n",
    "- What percentage of the images in `dog_files_short` have a detected dog?\n",
    "\n",
    "__Answer:__ \n",
    "\n",
    "percentage of human_files_short = 1%\n",
    "percentage of dog in dog_files_short = 100%"
   ]
  },
  {
   "cell_type": "code",
   "execution_count": 97,
   "metadata": {
    "collapsed": true
   },
   "outputs": [
    {
     "name": "stdout",
     "output_type": "stream",
     "text": [
      "lfw/Laura_Bush/Laura_Bush_0020.jpg\n",
      "human percent 1 %\n",
      "dog percent 100 %\n"
     ]
    }
   ],
   "source": [
    "### TODO: Test the performance of the dog_detector function\n",
    "### on the images in human_files_short and dog_files_short.\n",
    "\n",
    "human = 0\n",
    "dog = 0\n",
    "for h in human_files_short:\n",
    "    if dog_detector(h):\n",
    "        print(h)\n",
    "        human += 1\n",
    "for d in dog_files_short:\n",
    "    if dog_detector(d):\n",
    "        dog += 1\n",
    "print ('human percent {} %'.format(human))\n",
    "print ('dog percent {} %'.format(dog))"
   ]
  },
  {
   "cell_type": "markdown",
   "metadata": {},
   "source": [
    "---\n",
    "<a id='step3'></a>\n",
    "## Step 3: Create a CNN to Classify Dog Breeds (from Scratch)\n",
    "\n",
    "Now that we have functions for detecting humans and dogs in images, we need a way to predict breed from images.  In this step, you will create a CNN that classifies dog breeds.  You must create your CNN _from scratch_ (so, you can't use transfer learning _yet_!), and you must attain a test accuracy of at least 1%.  In Step 5 of this notebook, you will have the opportunity to use transfer learning to create a CNN that attains greatly improved accuracy.\n",
    "\n",
    "Be careful with adding too many trainable layers!  More parameters means longer training, which means you are more likely to need a GPU to accelerate the training process.  Thankfully, Keras provides a handy estimate of the time that each epoch is likely to take; you can extrapolate this estimate to figure out how long it will take for your algorithm to train. \n",
    "\n",
    "We mention that the task of assigning breed to dogs from images is considered exceptionally challenging.  To see why, consider that *even a human* would have great difficulty in distinguishing between a Brittany and a Welsh Springer Spaniel.  \n",
    "\n",
    "Brittany | Welsh Springer Spaniel\n",
    "- | - \n",
    "<img src=\"images/Brittany_02625.jpg\" width=\"100\"> | <img src=\"images/Welsh_springer_spaniel_08203.jpg\" width=\"200\">\n",
    "\n",
    "It is not difficult to find other dog breed pairs with minimal inter-class variation (for instance, Curly-Coated Retrievers and American Water Spaniels).  \n",
    "\n",
    "Curly-Coated Retriever | American Water Spaniel\n",
    "- | -\n",
    "<img src=\"images/Curly-coated_retriever_03896.jpg\" width=\"200\"> | <img src=\"images/American_water_spaniel_00648.jpg\" width=\"200\">\n",
    "\n",
    "\n",
    "Likewise, recall that labradors come in yellow, chocolate, and black.  Your vision-based algorithm will have to conquer this high intra-class variation to determine how to classify all of these different shades as the same breed.  \n",
    "\n",
    "Yellow Labrador | Chocolate Labrador | Black Labrador\n",
    "- | -\n",
    "<img src=\"images/Labrador_retriever_06457.jpg\" width=\"150\"> | <img src=\"images/Labrador_retriever_06455.jpg\" width=\"240\"> | <img src=\"images/Labrador_retriever_06449.jpg\" width=\"220\">\n",
    "\n",
    "We also mention that random chance presents an exceptionally low bar: setting aside the fact that the classes are slightly imabalanced, a random guess will provide a correct answer roughly 1 in 133 times, which corresponds to an accuracy of less than 1%.  \n",
    "\n",
    "Remember that the practice is far ahead of the theory in deep learning.  Experiment with many different architectures, and trust your intuition.  And, of course, have fun! \n",
    "\n",
    "### Pre-process the Data\n",
    "\n",
    "We rescale the images by dividing every pixel in every image by 255."
   ]
  },
  {
   "cell_type": "code",
   "execution_count": 11,
   "metadata": {
    "collapsed": true
   },
   "outputs": [
    {
     "name": "stderr",
     "output_type": "stream",
     "text": [
      "100%|██████████| 6680/6680 [00:47<00:00, 140.66it/s]\n",
      "100%|██████████| 835/835 [01:30<00:00,  9.26it/s]\n",
      "100%|██████████| 836/836 [00:24<00:00, 34.12it/s]\n"
     ]
    }
   ],
   "source": [
    "from PIL import ImageFile                            \n",
    "ImageFile.LOAD_TRUNCATED_IMAGES = True                 \n",
    "\n",
    "# pre-process the data for Keras\n",
    "train_tensors = paths_to_tensor(train_files).astype('float32')/255\n",
    "valid_tensors = paths_to_tensor(valid_files).astype('float32')/255\n",
    "test_tensors = paths_to_tensor(test_files).astype('float32')/255"
   ]
  },
  {
   "cell_type": "markdown",
   "metadata": {},
   "source": [
    "### (IMPLEMENTATION) Model Architecture\n",
    "\n",
    "Create a CNN to classify dog breed.  At the end of your code cell block, summarize the layers of your model by executing the line:\n",
    "    \n",
    "        model.summary()\n",
    "\n",
    "We have imported some Python modules to get you started, but feel free to import as many modules as you need.  If you end up getting stuck, here's a hint that specifies a model that trains relatively fast on CPU and attains >1% test accuracy in 5 epochs:\n",
    "\n",
    "![Sample CNN](images/sample_cnn.png)\n",
    "           \n",
    "__Question 4:__ Outline the steps you took to get to your final CNN architecture and your reasoning at each step.  If you chose to use the hinted architecture above, describe why you think that CNN architecture should work well for the image classification task.\n",
    "\n",
    "__Answer:__ \n",
    "\n",
    "from the above architecture we have 3 Convlotional layers and 3 Max pooling layers and in each sequence of (conv,and maxPooling) we increase the depth model and decrease the width and height then at the end add Global Average pooling layer to make the last layer before connect to the output layer with size of (64 nodes) then add the output layer (Dense layer) with number of nodes = 133 each node for each categorie and add activation function = 'softmax' to output probabilty for each class "
   ]
  },
  {
   "cell_type": "code",
   "execution_count": 12,
   "metadata": {
    "collapsed": true
   },
   "outputs": [
    {
     "name": "stdout",
     "output_type": "stream",
     "text": [
      "_________________________________________________________________\n",
      "Layer (type)                 Output Shape              Param #   \n",
      "=================================================================\n",
      "conv2d_1 (Conv2D)            (None, 223, 223, 16)      208       \n",
      "_________________________________________________________________\n",
      "max_pooling2d_2 (MaxPooling2 (None, 111, 111, 16)      0         \n",
      "_________________________________________________________________\n",
      "conv2d_2 (Conv2D)            (None, 110, 110, 32)      2080      \n",
      "_________________________________________________________________\n",
      "max_pooling2d_3 (MaxPooling2 (None, 55, 55, 32)        0         \n",
      "_________________________________________________________________\n",
      "conv2d_3 (Conv2D)            (None, 54, 54, 64)        8256      \n",
      "_________________________________________________________________\n",
      "max_pooling2d_4 (MaxPooling2 (None, 27, 27, 64)        0         \n",
      "_________________________________________________________________\n",
      "global_average_pooling2d_1 ( (None, 64)                0         \n",
      "_________________________________________________________________\n",
      "dense_1 (Dense)              (None, 133)               8645      \n",
      "=================================================================\n",
      "Total params: 19,189\n",
      "Trainable params: 19,189\n",
      "Non-trainable params: 0\n",
      "_________________________________________________________________\n"
     ]
    }
   ],
   "source": [
    "from keras.layers import Conv2D, MaxPooling2D, GlobalAveragePooling2D\n",
    "from keras.layers import Dropout, Flatten, Dense\n",
    "from keras.models import Sequential\n",
    "\n",
    "model = Sequential()\n",
    "\n",
    "### TODO: Define your architecture.\n",
    "model.add(Conv2D(filters=16,kernel_size=2,activation='relu',input_shape=(224,224,3)))\n",
    "model.add(MaxPooling2D(pool_size=2))\n",
    "\n",
    "model.add(Conv2D(filters=32,kernel_size=2,activation='relu'))\n",
    "model.add(MaxPooling2D(pool_size=2))\n",
    "\n",
    "model.add(Conv2D(filters=64,kernel_size=2,activation='relu'))\n",
    "model.add(MaxPooling2D(pool_size=2))\n",
    "\n",
    "model.add(GlobalAveragePooling2D())\n",
    "model.add(Dense(133,activation='softmax'))\n",
    "model.summary()"
   ]
  },
  {
   "cell_type": "code",
   "execution_count": 20,
   "metadata": {},
   "outputs": [],
   "source": [
    "from keras.callbacks import ModelCheckpoint "
   ]
  },
  {
   "cell_type": "markdown",
   "metadata": {},
   "source": [
    "### Compile the Model"
   ]
  },
  {
   "cell_type": "code",
   "execution_count": 13,
   "metadata": {
    "collapsed": true
   },
   "outputs": [],
   "source": [
    "model.compile(optimizer='rmsprop', loss='categorical_crossentropy', metrics=['accuracy'])"
   ]
  },
  {
   "cell_type": "markdown",
   "metadata": {},
   "source": [
    "### (IMPLEMENTATION) Train the Model\n",
    "\n",
    "Train your model in the code cell below.  Use model checkpointing to save the model that attains the best validation loss.\n",
    "\n",
    "You are welcome to [augment the training data](https://blog.keras.io/building-powerful-image-classification-models-using-very-little-data.html), but this is not a requirement. "
   ]
  },
  {
   "cell_type": "code",
   "execution_count": 13,
   "metadata": {
    "collapsed": true
   },
   "outputs": [
    {
     "name": "stdout",
     "output_type": "stream",
     "text": [
      "Train on 6680 samples, validate on 835 samples\n",
      "Epoch 1/50\n",
      "6680/6680 [==============================] - 150s 22ms/step - loss: 4.8840 - acc: 0.0099 - val_loss: 4.8697 - val_acc: 0.0144\n",
      "\n",
      "Epoch 00001: val_loss improved from inf to 4.86965, saving model to saved_models/weights.best.from_scratch.hdf5\n",
      "Epoch 2/50\n",
      "6680/6680 [==============================] - 134s 20ms/step - loss: 4.8563 - acc: 0.0126 - val_loss: 4.8404 - val_acc: 0.0168\n",
      "\n",
      "Epoch 00002: val_loss improved from 4.86965 to 4.84039, saving model to saved_models/weights.best.from_scratch.hdf5\n",
      "Epoch 3/50\n",
      "6680/6680 [==============================] - 134s 20ms/step - loss: 4.8093 - acc: 0.0177 - val_loss: 4.8042 - val_acc: 0.0192\n",
      "\n",
      "Epoch 00003: val_loss improved from 4.84039 to 4.80419, saving model to saved_models/weights.best.from_scratch.hdf5\n",
      "Epoch 4/50\n",
      "6680/6680 [==============================] - 134s 20ms/step - loss: 4.7701 - acc: 0.0193 - val_loss: 4.7835 - val_acc: 0.0168\n",
      "\n",
      "Epoch 00004: val_loss improved from 4.80419 to 4.78352, saving model to saved_models/weights.best.from_scratch.hdf5\n",
      "Epoch 5/50\n",
      "6680/6680 [==============================] - 135s 20ms/step - loss: 4.7398 - acc: 0.0232 - val_loss: 4.7719 - val_acc: 0.0240\n",
      "\n",
      "Epoch 00005: val_loss improved from 4.78352 to 4.77194, saving model to saved_models/weights.best.from_scratch.hdf5\n",
      "Epoch 6/50\n",
      "6680/6680 [==============================] - 135s 20ms/step - loss: 4.7131 - acc: 0.0228 - val_loss: 4.7494 - val_acc: 0.0263\n",
      "\n",
      "Epoch 00006: val_loss improved from 4.77194 to 4.74936, saving model to saved_models/weights.best.from_scratch.hdf5\n",
      "Epoch 7/50\n",
      "6680/6680 [==============================] - 135s 20ms/step - loss: 4.6882 - acc: 0.0308 - val_loss: 4.7374 - val_acc: 0.0287\n",
      "\n",
      "Epoch 00007: val_loss improved from 4.74936 to 4.73742, saving model to saved_models/weights.best.from_scratch.hdf5\n",
      "Epoch 8/50\n",
      "6680/6680 [==============================] - 135s 20ms/step - loss: 4.6603 - acc: 0.0310 - val_loss: 4.7241 - val_acc: 0.0299\n",
      "\n",
      "Epoch 00008: val_loss improved from 4.73742 to 4.72412, saving model to saved_models/weights.best.from_scratch.hdf5\n",
      "Epoch 9/50\n",
      "6680/6680 [==============================] - 135s 20ms/step - loss: 4.6383 - acc: 0.0334 - val_loss: 4.7411 - val_acc: 0.0299\n",
      "\n",
      "Epoch 00009: val_loss did not improve\n",
      "Epoch 10/50\n",
      "6680/6680 [==============================] - 136s 20ms/step - loss: 4.6182 - acc: 0.0377 - val_loss: 4.7312 - val_acc: 0.0251\n",
      "\n",
      "Epoch 00010: val_loss did not improve\n",
      "Epoch 11/50\n",
      "6680/6680 [==============================] - 136s 20ms/step - loss: 4.5997 - acc: 0.0397 - val_loss: 4.7103 - val_acc: 0.0359\n",
      "\n",
      "Epoch 00011: val_loss improved from 4.72412 to 4.71028, saving model to saved_models/weights.best.from_scratch.hdf5\n",
      "Epoch 12/50\n",
      "6680/6680 [==============================] - 136s 20ms/step - loss: 4.5875 - acc: 0.0425 - val_loss: 4.6673 - val_acc: 0.0263\n",
      "\n",
      "Epoch 00012: val_loss improved from 4.71028 to 4.66730, saving model to saved_models/weights.best.from_scratch.hdf5\n",
      "Epoch 13/50\n",
      "6680/6680 [==============================] - 136s 20ms/step - loss: 4.5708 - acc: 0.0452 - val_loss: 4.6574 - val_acc: 0.0323\n",
      "\n",
      "Epoch 00013: val_loss improved from 4.66730 to 4.65737, saving model to saved_models/weights.best.from_scratch.hdf5\n",
      "Epoch 14/50\n",
      "6680/6680 [==============================] - 137s 21ms/step - loss: 4.5589 - acc: 0.0466 - val_loss: 4.6519 - val_acc: 0.0359\n",
      "\n",
      "Epoch 00014: val_loss improved from 4.65737 to 4.65193, saving model to saved_models/weights.best.from_scratch.hdf5\n",
      "Epoch 15/50\n",
      "6680/6680 [==============================] - 137s 21ms/step - loss: 4.5441 - acc: 0.0455 - val_loss: 4.6492 - val_acc: 0.0311\n",
      "\n",
      "Epoch 00015: val_loss improved from 4.65193 to 4.64922, saving model to saved_models/weights.best.from_scratch.hdf5\n",
      "Epoch 16/50\n",
      "6680/6680 [==============================] - 137s 21ms/step - loss: 4.5265 - acc: 0.0503 - val_loss: 4.6260 - val_acc: 0.0431\n",
      "\n",
      "Epoch 00016: val_loss improved from 4.64922 to 4.62599, saving model to saved_models/weights.best.from_scratch.hdf5\n",
      "Epoch 17/50\n",
      "6680/6680 [==============================] - 137s 21ms/step - loss: 4.5092 - acc: 0.0524 - val_loss: 4.6259 - val_acc: 0.0407\n",
      "\n",
      "Epoch 00017: val_loss improved from 4.62599 to 4.62592, saving model to saved_models/weights.best.from_scratch.hdf5\n",
      "Epoch 18/50\n",
      "6680/6680 [==============================] - 138s 21ms/step - loss: 4.4923 - acc: 0.0531 - val_loss: 4.6038 - val_acc: 0.0395\n",
      "\n",
      "Epoch 00018: val_loss improved from 4.62592 to 4.60379, saving model to saved_models/weights.best.from_scratch.hdf5\n",
      "Epoch 19/50\n",
      "6680/6680 [==============================] - 139s 21ms/step - loss: 4.4762 - acc: 0.0560 - val_loss: 4.6191 - val_acc: 0.0431\n",
      "\n",
      "Epoch 00019: val_loss did not improve\n",
      "Epoch 20/50\n",
      "6680/6680 [==============================] - 138s 21ms/step - loss: 4.4574 - acc: 0.0546 - val_loss: 4.5726 - val_acc: 0.0383\n",
      "\n",
      "Epoch 00020: val_loss improved from 4.60379 to 4.57256, saving model to saved_models/weights.best.from_scratch.hdf5\n",
      "Epoch 21/50\n",
      "6680/6680 [==============================] - 138s 21ms/step - loss: 4.4347 - acc: 0.0560 - val_loss: 4.5697 - val_acc: 0.0419\n",
      "\n",
      "Epoch 00021: val_loss improved from 4.57256 to 4.56974, saving model to saved_models/weights.best.from_scratch.hdf5\n",
      "Epoch 22/50\n",
      "6680/6680 [==============================] - 139s 21ms/step - loss: 4.4162 - acc: 0.0606 - val_loss: 4.5382 - val_acc: 0.0431\n",
      "\n",
      "Epoch 00022: val_loss improved from 4.56974 to 4.53816, saving model to saved_models/weights.best.from_scratch.hdf5\n",
      "Epoch 23/50\n",
      "6680/6680 [==============================] - 139s 21ms/step - loss: 4.3978 - acc: 0.0630 - val_loss: 4.5481 - val_acc: 0.0455\n",
      "\n",
      "Epoch 00023: val_loss did not improve\n",
      "Epoch 24/50\n",
      "6680/6680 [==============================] - 139s 21ms/step - loss: 4.3759 - acc: 0.0645 - val_loss: 4.5315 - val_acc: 0.0431\n",
      "\n",
      "Epoch 00024: val_loss improved from 4.53816 to 4.53150, saving model to saved_models/weights.best.from_scratch.hdf5\n",
      "Epoch 25/50\n",
      "6680/6680 [==============================] - 139s 21ms/step - loss: 4.3593 - acc: 0.0630 - val_loss: 4.5399 - val_acc: 0.0539\n",
      "\n",
      "Epoch 00025: val_loss did not improve\n",
      "Epoch 26/50\n",
      "6680/6680 [==============================] - 139s 21ms/step - loss: 4.3381 - acc: 0.0708 - val_loss: 4.4827 - val_acc: 0.0479\n",
      "\n",
      "Epoch 00026: val_loss improved from 4.53150 to 4.48268, saving model to saved_models/weights.best.from_scratch.hdf5\n",
      "Epoch 27/50\n",
      "6680/6680 [==============================] - 140s 21ms/step - loss: 4.3165 - acc: 0.0716 - val_loss: 4.4773 - val_acc: 0.0599\n",
      "\n",
      "Epoch 00027: val_loss improved from 4.48268 to 4.47735, saving model to saved_models/weights.best.from_scratch.hdf5\n",
      "Epoch 28/50\n",
      "6680/6680 [==============================] - 140s 21ms/step - loss: 4.2965 - acc: 0.0723 - val_loss: 4.4729 - val_acc: 0.0503\n",
      "\n",
      "Epoch 00028: val_loss improved from 4.47735 to 4.47287, saving model to saved_models/weights.best.from_scratch.hdf5\n",
      "Epoch 29/50\n",
      "6680/6680 [==============================] - 140s 21ms/step - loss: 4.2802 - acc: 0.0756 - val_loss: 4.4846 - val_acc: 0.0455\n",
      "\n",
      "Epoch 00029: val_loss did not improve\n",
      "Epoch 30/50\n",
      "6680/6680 [==============================] - 140s 21ms/step - loss: 4.2546 - acc: 0.0750 - val_loss: 4.4813 - val_acc: 0.0587\n",
      "\n",
      "Epoch 00030: val_loss did not improve\n",
      "Epoch 31/50\n",
      "6680/6680 [==============================] - 140s 21ms/step - loss: 4.2368 - acc: 0.0790 - val_loss: 4.6280 - val_acc: 0.0515\n",
      "\n",
      "Epoch 00031: val_loss did not improve\n",
      "Epoch 32/50\n",
      "6680/6680 [==============================] - 141s 21ms/step - loss: 4.2108 - acc: 0.0846 - val_loss: 4.4408 - val_acc: 0.0563\n",
      "\n",
      "Epoch 00032: val_loss improved from 4.47287 to 4.44083, saving model to saved_models/weights.best.from_scratch.hdf5\n",
      "Epoch 33/50\n",
      "6680/6680 [==============================] - 141s 21ms/step - loss: 4.1956 - acc: 0.0802 - val_loss: 4.4149 - val_acc: 0.0575\n",
      "\n",
      "Epoch 00033: val_loss improved from 4.44083 to 4.41487, saving model to saved_models/weights.best.from_scratch.hdf5\n",
      "Epoch 34/50\n",
      "6680/6680 [==============================] - 162s 24ms/step - loss: 4.1771 - acc: 0.0853 - val_loss: 4.4204 - val_acc: 0.0659\n",
      "\n",
      "Epoch 00034: val_loss did not improve\n",
      "Epoch 35/50\n",
      "6680/6680 [==============================] - 193s 29ms/step - loss: 4.1589 - acc: 0.0931 - val_loss: 4.3565 - val_acc: 0.0647\n",
      "\n",
      "Epoch 00035: val_loss improved from 4.41487 to 4.35653, saving model to saved_models/weights.best.from_scratch.hdf5\n",
      "Epoch 36/50\n",
      "6680/6680 [==============================] - 192s 29ms/step - loss: 4.1394 - acc: 0.0936 - val_loss: 4.3458 - val_acc: 0.0707\n",
      "\n",
      "Epoch 00036: val_loss improved from 4.35653 to 4.34584, saving model to saved_models/weights.best.from_scratch.hdf5\n",
      "Epoch 37/50\n",
      "6680/6680 [==============================] - 192s 29ms/step - loss: 4.1211 - acc: 0.0906 - val_loss: 4.3450 - val_acc: 0.0671\n",
      "\n",
      "Epoch 00037: val_loss improved from 4.34584 to 4.34500, saving model to saved_models/weights.best.from_scratch.hdf5\n",
      "Epoch 38/50\n",
      "6680/6680 [==============================] - 194s 29ms/step - loss: 4.0990 - acc: 0.0952 - val_loss: 4.3599 - val_acc: 0.0719\n",
      "\n",
      "Epoch 00038: val_loss did not improve\n",
      "Epoch 39/50\n",
      "6680/6680 [==============================] - 193s 29ms/step - loss: 4.0867 - acc: 0.0946 - val_loss: 4.3191 - val_acc: 0.0659\n",
      "\n",
      "Epoch 00039: val_loss improved from 4.34500 to 4.31906, saving model to saved_models/weights.best.from_scratch.hdf5\n",
      "Epoch 40/50\n",
      "6680/6680 [==============================] - 149s 22ms/step - loss: 4.0725 - acc: 0.0972 - val_loss: 4.3451 - val_acc: 0.0683\n",
      "\n",
      "Epoch 00040: val_loss did not improve\n",
      "Epoch 41/50\n",
      "6680/6680 [==============================] - 142s 21ms/step - loss: 4.0533 - acc: 0.0976 - val_loss: 4.3243 - val_acc: 0.0695\n",
      "\n",
      "Epoch 00041: val_loss did not improve\n",
      "Epoch 42/50\n",
      "6680/6680 [==============================] - 143s 21ms/step - loss: 4.0413 - acc: 0.0982 - val_loss: 4.3502 - val_acc: 0.0754\n",
      "\n",
      "Epoch 00042: val_loss did not improve\n",
      "Epoch 43/50\n",
      "6680/6680 [==============================] - 142s 21ms/step - loss: 4.0293 - acc: 0.1007 - val_loss: 4.2742 - val_acc: 0.0754\n",
      "\n",
      "Epoch 00043: val_loss improved from 4.31906 to 4.27422, saving model to saved_models/weights.best.from_scratch.hdf5\n",
      "Epoch 44/50\n",
      "6680/6680 [==============================] - 142s 21ms/step - loss: 4.0120 - acc: 0.1084 - val_loss: 4.2957 - val_acc: 0.0695\n",
      "\n",
      "Epoch 00044: val_loss did not improve\n",
      "Epoch 45/50\n",
      "6680/6680 [==============================] - 144s 21ms/step - loss: 3.9950 - acc: 0.1078 - val_loss: 4.2334 - val_acc: 0.0886\n",
      "\n",
      "Epoch 00045: val_loss improved from 4.27422 to 4.23341, saving model to saved_models/weights.best.from_scratch.hdf5\n",
      "Epoch 46/50\n",
      "6680/6680 [==============================] - 143s 21ms/step - loss: 3.9902 - acc: 0.1070 - val_loss: 4.2436 - val_acc: 0.0838\n",
      "\n",
      "Epoch 00046: val_loss did not improve\n",
      "Epoch 47/50\n",
      "6680/6680 [==============================] - 144s 22ms/step - loss: 3.9712 - acc: 0.1073 - val_loss: 4.2284 - val_acc: 0.0707\n",
      "\n",
      "Epoch 00047: val_loss improved from 4.23341 to 4.22837, saving model to saved_models/weights.best.from_scratch.hdf5\n",
      "Epoch 48/50\n",
      "6680/6680 [==============================] - 144s 22ms/step - loss: 3.9556 - acc: 0.1142 - val_loss: 4.2806 - val_acc: 0.0802\n",
      "\n",
      "Epoch 00048: val_loss did not improve\n",
      "Epoch 49/50\n",
      "6680/6680 [==============================] - 144s 22ms/step - loss: 3.9454 - acc: 0.1181 - val_loss: 4.2094 - val_acc: 0.0886\n",
      "\n",
      "Epoch 00049: val_loss improved from 4.22837 to 4.20942, saving model to saved_models/weights.best.from_scratch.hdf5\n",
      "Epoch 50/50\n",
      "6680/6680 [==============================] - 143s 21ms/step - loss: 3.9351 - acc: 0.1177 - val_loss: 4.2196 - val_acc: 0.0838\n",
      "\n",
      "Epoch 00050: val_loss did not improve\n"
     ]
    },
    {
     "data": {
      "text/plain": [
       "<keras.callbacks.History at 0x7f495f10ea10>"
      ]
     },
     "execution_count": 13,
     "metadata": {},
     "output_type": "execute_result"
    }
   ],
   "source": [
    "from keras.callbacks import ModelCheckpoint  \n",
    "\n",
    "### TODO: specify the number of epochs that you would like to use to train the model.\n",
    "\n",
    "epochs = 50\n",
    "\n",
    "### Do NOT modify the code below this line.\n",
    "\n",
    "checkpointer = ModelCheckpoint(filepath='saved_models/weights.best.from_scratch.hdf5', \n",
    "                               verbose=1, save_best_only=True)\n",
    "\n",
    "model.fit(train_tensors, train_targets, \n",
    "          validation_data=(valid_tensors, valid_targets),\n",
    "          epochs=epochs, batch_size=20, callbacks=[checkpointer], verbose=1)"
   ]
  },
  {
   "cell_type": "markdown",
   "metadata": {},
   "source": [
    "### Load the Model with the Best Validation Loss"
   ]
  },
  {
   "cell_type": "code",
   "execution_count": 14,
   "metadata": {
    "collapsed": true
   },
   "outputs": [],
   "source": [
    "model.load_weights('saved_models/weights.best.from_scratch.hdf5')"
   ]
  },
  {
   "cell_type": "markdown",
   "metadata": {},
   "source": [
    "### Test the Model\n",
    "\n",
    "Try out your model on the test dataset of dog images.  Ensure that your test accuracy is greater than 1%."
   ]
  },
  {
   "cell_type": "code",
   "execution_count": 15,
   "metadata": {
    "collapsed": true
   },
   "outputs": [
    {
     "name": "stdout",
     "output_type": "stream",
     "text": [
      "Test accuracy: 10.0000%\n"
     ]
    }
   ],
   "source": [
    "# get index of predicted dog breed for each image in test set\n",
    "dog_breed_predictions = [np.argmax(model.predict(np.expand_dims(tensor, axis=0))) for tensor in test_tensors]\n",
    "\n",
    "# report test accuracy\n",
    "test_accuracy = 100*np.sum(np.array(dog_breed_predictions)==np.argmax(test_targets, axis=1))/len(dog_breed_predictions)\n",
    "print('Test accuracy: %.4f%%' % test_accuracy)"
   ]
  },
  {
   "cell_type": "markdown",
   "metadata": {},
   "source": [
    "---\n",
    "<a id='step4'></a>\n",
    "## Step 4: Use a CNN to Classify Dog Breeds\n",
    "\n",
    "To reduce training time without sacrificing accuracy, we show you how to train a CNN using transfer learning.  In the following step, you will get a chance to use transfer learning to train your own CNN.\n",
    "\n",
    "### Obtain Bottleneck Features"
   ]
  },
  {
   "cell_type": "code",
   "execution_count": 16,
   "metadata": {
    "collapsed": true
   },
   "outputs": [],
   "source": [
    "bottleneck_features = np.load('bottleneck_features/DogVGG16Data.npz')\n",
    "train_VGG16 = bottleneck_features['train']\n",
    "valid_VGG16 = bottleneck_features['valid']\n",
    "test_VGG16 = bottleneck_features['test']"
   ]
  },
  {
   "cell_type": "markdown",
   "metadata": {},
   "source": [
    "### Model Architecture\n",
    "\n",
    "The model uses the the pre-trained VGG-16 model as a fixed feature extractor, where the last convolutional output of VGG-16 is fed as input to our model.  We only add a global average pooling layer and a fully connected layer, where the latter contains one node for each dog category and is equipped with a softmax."
   ]
  },
  {
   "cell_type": "code",
   "execution_count": 17,
   "metadata": {
    "collapsed": true
   },
   "outputs": [
    {
     "name": "stdout",
     "output_type": "stream",
     "text": [
      "_________________________________________________________________\n",
      "Layer (type)                 Output Shape              Param #   \n",
      "=================================================================\n",
      "global_average_pooling2d_2 ( (None, 512)               0         \n",
      "_________________________________________________________________\n",
      "dense_2 (Dense)              (None, 133)               68229     \n",
      "=================================================================\n",
      "Total params: 68,229\n",
      "Trainable params: 68,229\n",
      "Non-trainable params: 0\n",
      "_________________________________________________________________\n"
     ]
    }
   ],
   "source": [
    "VGG16_model = Sequential()\n",
    "VGG16_model.add(GlobalAveragePooling2D(input_shape=train_VGG16.shape[1:]))\n",
    "VGG16_model.add(Dense(133, activation='softmax'))\n",
    "\n",
    "VGG16_model.summary()"
   ]
  },
  {
   "cell_type": "markdown",
   "metadata": {},
   "source": [
    "### Compile the Model"
   ]
  },
  {
   "cell_type": "code",
   "execution_count": 18,
   "metadata": {
    "collapsed": true
   },
   "outputs": [],
   "source": [
    "VGG16_model.compile(loss='categorical_crossentropy', optimizer='rmsprop', metrics=['accuracy'])"
   ]
  },
  {
   "cell_type": "markdown",
   "metadata": {},
   "source": [
    "### Train the Model"
   ]
  },
  {
   "cell_type": "code",
   "execution_count": 21,
   "metadata": {
    "collapsed": true
   },
   "outputs": [
    {
     "name": "stdout",
     "output_type": "stream",
     "text": [
      "Train on 6680 samples, validate on 835 samples\n",
      "Epoch 1/20\n",
      "6680/6680 [==============================] - 5s 720us/step - loss: 12.0880 - acc: 0.1123 - val_loss: 10.1506 - val_acc: 0.2156\n",
      "\n",
      "Epoch 00001: val_loss improved from inf to 10.15062, saving model to saved_models/weights.best.VGG16.hdf5\n",
      "Epoch 2/20\n",
      "6680/6680 [==============================] - 1s 219us/step - loss: 9.3906 - acc: 0.3009 - val_loss: 9.3216 - val_acc: 0.3054\n",
      "\n",
      "Epoch 00002: val_loss improved from 10.15062 to 9.32157, saving model to saved_models/weights.best.VGG16.hdf5\n",
      "Epoch 3/20\n",
      "6680/6680 [==============================] - 2s 232us/step - loss: 8.6723 - acc: 0.3813 - val_loss: 8.9029 - val_acc: 0.3401\n",
      "\n",
      "Epoch 00003: val_loss improved from 9.32157 to 8.90287, saving model to saved_models/weights.best.VGG16.hdf5\n",
      "Epoch 4/20\n",
      "6680/6680 [==============================] - 2s 246us/step - loss: 8.2690 - acc: 0.4259 - val_loss: 8.6328 - val_acc: 0.3677\n",
      "\n",
      "Epoch 00004: val_loss improved from 8.90287 to 8.63279, saving model to saved_models/weights.best.VGG16.hdf5\n",
      "Epoch 5/20\n",
      "6680/6680 [==============================] - 2s 227us/step - loss: 7.9525 - acc: 0.4587 - val_loss: 8.4417 - val_acc: 0.3760\n",
      "\n",
      "Epoch 00005: val_loss improved from 8.63279 to 8.44175, saving model to saved_models/weights.best.VGG16.hdf5\n",
      "Epoch 6/20\n",
      "6680/6680 [==============================] - 2s 229us/step - loss: 7.7461 - acc: 0.4847 - val_loss: 8.2915 - val_acc: 0.3952\n",
      "\n",
      "Epoch 00006: val_loss improved from 8.44175 to 8.29148, saving model to saved_models/weights.best.VGG16.hdf5\n",
      "Epoch 7/20\n",
      "6680/6680 [==============================] - 2s 230us/step - loss: 7.5847 - acc: 0.4960 - val_loss: 8.2051 - val_acc: 0.3964\n",
      "\n",
      "Epoch 00007: val_loss improved from 8.29148 to 8.20507, saving model to saved_models/weights.best.VGG16.hdf5\n",
      "Epoch 8/20\n",
      "6680/6680 [==============================] - 2s 228us/step - loss: 7.4085 - acc: 0.5073 - val_loss: 7.9244 - val_acc: 0.4096\n",
      "\n",
      "Epoch 00008: val_loss improved from 8.20507 to 7.92439, saving model to saved_models/weights.best.VGG16.hdf5\n",
      "Epoch 9/20\n",
      "6680/6680 [==============================] - 1s 194us/step - loss: 7.1263 - acc: 0.5262 - val_loss: 7.6632 - val_acc: 0.4335\n",
      "\n",
      "Epoch 00009: val_loss improved from 7.92439 to 7.66317, saving model to saved_models/weights.best.VGG16.hdf5\n",
      "Epoch 10/20\n",
      "6680/6680 [==============================] - 1s 191us/step - loss: 6.9553 - acc: 0.5446 - val_loss: 7.6188 - val_acc: 0.4443\n",
      "\n",
      "Epoch 00010: val_loss improved from 7.66317 to 7.61880, saving model to saved_models/weights.best.VGG16.hdf5\n",
      "Epoch 11/20\n",
      "6680/6680 [==============================] - 2s 229us/step - loss: 6.8174 - acc: 0.5528 - val_loss: 7.6481 - val_acc: 0.4479\n",
      "\n",
      "Epoch 00011: val_loss did not improve\n",
      "Epoch 12/20\n",
      "6680/6680 [==============================] - 2s 248us/step - loss: 6.7451 - acc: 0.5641 - val_loss: 7.5659 - val_acc: 0.4491\n",
      "\n",
      "Epoch 00012: val_loss improved from 7.61880 to 7.56590, saving model to saved_models/weights.best.VGG16.hdf5\n",
      "Epoch 13/20\n",
      "6680/6680 [==============================] - 2s 250us/step - loss: 6.7169 - acc: 0.5668 - val_loss: 7.4409 - val_acc: 0.4527\n",
      "\n",
      "Epoch 00013: val_loss improved from 7.56590 to 7.44089, saving model to saved_models/weights.best.VGG16.hdf5\n",
      "Epoch 14/20\n",
      "6680/6680 [==============================] - 2s 227us/step - loss: 6.6000 - acc: 0.5702 - val_loss: 7.5005 - val_acc: 0.4383\n",
      "\n",
      "Epoch 00014: val_loss did not improve\n",
      "Epoch 15/20\n",
      "6680/6680 [==============================] - 2s 225us/step - loss: 6.3991 - acc: 0.5810 - val_loss: 7.3720 - val_acc: 0.4611\n",
      "\n",
      "Epoch 00015: val_loss improved from 7.44089 to 7.37199, saving model to saved_models/weights.best.VGG16.hdf5\n",
      "Epoch 16/20\n",
      "6680/6680 [==============================] - 2s 227us/step - loss: 6.2141 - acc: 0.5915 - val_loss: 7.2524 - val_acc: 0.4515\n",
      "\n",
      "Epoch 00016: val_loss improved from 7.37199 to 7.25236, saving model to saved_models/weights.best.VGG16.hdf5\n",
      "Epoch 17/20\n",
      "6680/6680 [==============================] - 2s 229us/step - loss: 6.0643 - acc: 0.6076 - val_loss: 7.2671 - val_acc: 0.4647\n",
      "\n",
      "Epoch 00017: val_loss did not improve\n",
      "Epoch 18/20\n",
      "6680/6680 [==============================] - 2s 242us/step - loss: 5.8755 - acc: 0.6117 - val_loss: 6.9906 - val_acc: 0.4635\n",
      "\n",
      "Epoch 00018: val_loss improved from 7.25236 to 6.99062, saving model to saved_models/weights.best.VGG16.hdf5\n",
      "Epoch 19/20\n",
      "6680/6680 [==============================] - 2s 227us/step - loss: 5.6944 - acc: 0.6310 - val_loss: 6.8312 - val_acc: 0.4743\n",
      "\n",
      "Epoch 00019: val_loss improved from 6.99062 to 6.83115, saving model to saved_models/weights.best.VGG16.hdf5\n",
      "Epoch 20/20\n",
      "6680/6680 [==============================] - 2s 236us/step - loss: 5.5387 - acc: 0.6341 - val_loss: 6.6064 - val_acc: 0.4874\n",
      "\n",
      "Epoch 00020: val_loss improved from 6.83115 to 6.60641, saving model to saved_models/weights.best.VGG16.hdf5\n"
     ]
    },
    {
     "data": {
      "text/plain": [
       "<keras.callbacks.History at 0x7f56870bd490>"
      ]
     },
     "execution_count": 21,
     "metadata": {},
     "output_type": "execute_result"
    }
   ],
   "source": [
    "checkpointer = ModelCheckpoint(filepath='saved_models/weights.best.VGG16.hdf5', \n",
    "                               verbose=1, save_best_only=True)\n",
    "\n",
    "VGG16_model.fit(train_VGG16, train_targets, \n",
    "          validation_data=(valid_VGG16, valid_targets),\n",
    "          epochs=20, batch_size=20, callbacks=[checkpointer], verbose=1)"
   ]
  },
  {
   "cell_type": "markdown",
   "metadata": {},
   "source": [
    "### Load the Model with the Best Validation Loss"
   ]
  },
  {
   "cell_type": "code",
   "execution_count": 22,
   "metadata": {
    "collapsed": true
   },
   "outputs": [],
   "source": [
    "VGG16_model.load_weights('saved_models/weights.best.VGG16.hdf5')"
   ]
  },
  {
   "cell_type": "markdown",
   "metadata": {},
   "source": [
    "### Test the Model\n",
    "\n",
    "Now, we can use the CNN to test how well it identifies breed within our test dataset of dog images.  We print the test accuracy below."
   ]
  },
  {
   "cell_type": "code",
   "execution_count": 23,
   "metadata": {
    "collapsed": true
   },
   "outputs": [
    {
     "name": "stdout",
     "output_type": "stream",
     "text": [
      "Test accuracy: 47.0000%\n"
     ]
    }
   ],
   "source": [
    "# get index of predicted dog breed for each image in test set\n",
    "VGG16_predictions = [np.argmax(VGG16_model.predict(np.expand_dims(feature, axis=0))) for feature in test_VGG16]\n",
    "\n",
    "# report test accuracy\n",
    "test_accuracy = 100*np.sum(np.array(VGG16_predictions)==np.argmax(test_targets, axis=1))/len(VGG16_predictions)\n",
    "print('Test accuracy: %.4f%%' % test_accuracy)"
   ]
  },
  {
   "cell_type": "markdown",
   "metadata": {},
   "source": [
    "### Predict Dog Breed with the Model"
   ]
  },
  {
   "cell_type": "code",
   "execution_count": 24,
   "metadata": {
    "collapsed": true
   },
   "outputs": [],
   "source": [
    "from extract_bottleneck_features import *\n",
    "\n",
    "def VGG16_predict_breed(img_path):\n",
    "    # extract bottleneck features\n",
    "    bottleneck_feature = extract_VGG16(path_to_tensor(img_path))\n",
    "    # obtain predicted vector\n",
    "    predicted_vector = VGG16_model.predict(bottleneck_feature)\n",
    "    # return dog breed that is predicted by the model\n",
    "    return dog_names[np.argmax(predicted_vector)]"
   ]
  },
  {
   "cell_type": "markdown",
   "metadata": {},
   "source": [
    "---\n",
    "<a id='step5'></a>\n",
    "## Step 5: Create a CNN to Classify Dog Breeds (using Transfer Learning)\n",
    "\n",
    "You will now use transfer learning to create a CNN that can identify dog breed from images.  Your CNN must attain at least 60% accuracy on the test set.\n",
    "\n",
    "In Step 4, we used transfer learning to create a CNN using VGG-16 bottleneck features.  In this section, you must use the bottleneck features from a different pre-trained model.  To make things easier for you, we have pre-computed the features for all of the networks that are currently available in Keras:\n",
    "- [VGG-19](https://s3-us-west-1.amazonaws.com/udacity-aind/dog-project/DogVGG19Data.npz) bottleneck features\n",
    "- [ResNet-50](https://s3-us-west-1.amazonaws.com/udacity-aind/dog-project/DogResnet50Data.npz) bottleneck features\n",
    "- [Inception](https://s3-us-west-1.amazonaws.com/udacity-aind/dog-project/DogInceptionV3Data.npz) bottleneck features\n",
    "- [Xception](https://s3-us-west-1.amazonaws.com/udacity-aind/dog-project/DogXceptionData.npz) bottleneck features\n",
    "\n",
    "The files are encoded as such:\n",
    "\n",
    "    Dog{network}Data.npz\n",
    "    \n",
    "where `{network}`, in the above filename, can be one of `VGG19`, `Resnet50`, `InceptionV3`, or `Xception`.  Pick one of the above architectures, download the corresponding bottleneck features, and store the downloaded file in the `bottleneck_features/` folder in the repository.\n",
    "\n",
    "### (IMPLEMENTATION) Obtain Bottleneck Features\n",
    "\n",
    "In the code block below, extract the bottleneck features corresponding to the train, test, and validation sets by running the following:\n",
    "\n",
    "    bottleneck_features = np.load('bottleneck_features/Dog{network}Data.npz')\n",
    "    train_{network} = bottleneck_features['train']\n",
    "    valid_{network} = bottleneck_features['valid']\n",
    "    test_{network} = bottleneck_features['test']"
   ]
  },
  {
   "cell_type": "code",
   "execution_count": 79,
   "metadata": {
    "collapsed": true
   },
   "outputs": [],
   "source": [
    "bottleneck_features = np.load('bottleneck_features/DogResnet50Data.npz')\n",
    "train_ResNet50 = bottleneck_features['train']\n",
    "valid_ResNet50 = bottleneck_features['valid']\n",
    "test_ResNet50 = bottleneck_features['test']"
   ]
  },
  {
   "cell_type": "markdown",
   "metadata": {},
   "source": [
    "### (IMPLEMENTATION) Model Architecture\n",
    "\n",
    "Create a CNN to classify dog breed.  At the end of your code cell block, summarize the layers of your model by executing the line:\n",
    "    \n",
    "        <your model's name>.summary()\n",
    "   \n",
    "__Question 5:__ Outline the steps you took to get to your final CNN architecture and your reasoning at each step.  Describe why you think the architecture is suitable for the current problem.\n",
    "\n",
    "__Answer:__ \n",
    "\n",
    "After adding the ResNet50 pre-trained model , I add Global average pooling layer take from previous layers node (=Avg all node in this filter) from each filter decrease number of node ot 2048\n",
    "\n",
    "then add Dense(fully connect) layer with number of nodes = numbers of categories = 133 and add softmax activation function to see which class (type) this image belong to\n"
   ]
  },
  {
   "cell_type": "code",
   "execution_count": 80,
   "metadata": {
    "collapsed": true
   },
   "outputs": [
    {
     "name": "stdout",
     "output_type": "stream",
     "text": [
      "_________________________________________________________________\n",
      "Layer (type)                 Output Shape              Param #   \n",
      "=================================================================\n",
      "global_average_pooling2d_5 ( (None, 2048)              0         \n",
      "_________________________________________________________________\n",
      "dense_5 (Dense)              (None, 133)               272517    \n",
      "=================================================================\n",
      "Total params: 272,517\n",
      "Trainable params: 272,517\n",
      "Non-trainable params: 0\n",
      "_________________________________________________________________\n"
     ]
    }
   ],
   "source": [
    "ResNet50_model2 = Sequential()\n",
    "ResNet50_model2.add(GlobalAveragePooling2D(input_shape=train_ResNet50.shape[1:]))\n",
    "ResNet50_model2.add(Dense(133, activation='softmax'))\n",
    "\n",
    "ResNet50_model2.summary()"
   ]
  },
  {
   "cell_type": "markdown",
   "metadata": {},
   "source": [
    "### (IMPLEMENTATION) Compile the Model"
   ]
  },
  {
   "cell_type": "code",
   "execution_count": 81,
   "metadata": {
    "collapsed": true
   },
   "outputs": [],
   "source": [
    "ResNet50_model2.compile(loss='categorical_crossentropy', optimizer='rmsprop', metrics=['accuracy'])"
   ]
  },
  {
   "cell_type": "markdown",
   "metadata": {},
   "source": [
    "### (IMPLEMENTATION) Train the Model\n",
    "\n",
    "Train your model in the code cell below.  Use model checkpointing to save the model that attains the best validation loss.  \n",
    "\n",
    "You are welcome to [augment the training data](https://blog.keras.io/building-powerful-image-classification-models-using-very-little-data.html), but this is not a requirement. "
   ]
  },
  {
   "cell_type": "code",
   "execution_count": 82,
   "metadata": {
    "collapsed": true
   },
   "outputs": [
    {
     "name": "stdout",
     "output_type": "stream",
     "text": [
      "Train on 6680 samples, validate on 835 samples\n",
      "Epoch 1/20\n",
      "6680/6680 [==============================] - 8s 1ms/step - loss: 1.6205 - acc: 0.6055 - val_loss: 0.8222 - val_acc: 0.7485\n",
      "\n",
      "Epoch 00001: val_loss improved from inf to 0.82219, saving model to saved_models/weights.best.ResNet50.hdf5\n",
      "Epoch 2/20\n",
      "6680/6680 [==============================] - 3s 377us/step - loss: 0.4427 - acc: 0.8671 - val_loss: 0.7382 - val_acc: 0.7737\n",
      "\n",
      "Epoch 00002: val_loss improved from 0.82219 to 0.73819, saving model to saved_models/weights.best.ResNet50.hdf5\n",
      "Epoch 3/20\n",
      "6680/6680 [==============================] - 3s 391us/step - loss: 0.2586 - acc: 0.9141 - val_loss: 0.6658 - val_acc: 0.8012\n",
      "\n",
      "Epoch 00003: val_loss improved from 0.73819 to 0.66579, saving model to saved_models/weights.best.ResNet50.hdf5\n",
      "Epoch 4/20\n",
      "6680/6680 [==============================] - 3s 385us/step - loss: 0.1730 - acc: 0.9461 - val_loss: 0.6879 - val_acc: 0.8036\n",
      "\n",
      "Epoch 00004: val_loss did not improve\n",
      "Epoch 5/20\n",
      "6680/6680 [==============================] - 3s 401us/step - loss: 0.1220 - acc: 0.9603 - val_loss: 0.6157 - val_acc: 0.8180\n",
      "\n",
      "Epoch 00005: val_loss improved from 0.66579 to 0.61574, saving model to saved_models/weights.best.ResNet50.hdf5\n",
      "Epoch 6/20\n",
      "6680/6680 [==============================] - 3s 389us/step - loss: 0.0883 - acc: 0.9753 - val_loss: 0.6490 - val_acc: 0.8216\n",
      "\n",
      "Epoch 00006: val_loss did not improve\n",
      "Epoch 7/20\n",
      "6680/6680 [==============================] - 3s 386us/step - loss: 0.0665 - acc: 0.9792 - val_loss: 0.7244 - val_acc: 0.8120\n",
      "\n",
      "Epoch 00007: val_loss did not improve\n",
      "Epoch 8/20\n",
      "6680/6680 [==============================] - 3s 424us/step - loss: 0.0481 - acc: 0.9867 - val_loss: 0.7365 - val_acc: 0.8180\n",
      "\n",
      "Epoch 00008: val_loss did not improve\n",
      "Epoch 9/20\n",
      "6680/6680 [==============================] - 3s 394us/step - loss: 0.0357 - acc: 0.9892 - val_loss: 0.7539 - val_acc: 0.8156\n",
      "\n",
      "Epoch 00009: val_loss did not improve\n",
      "Epoch 10/20\n",
      "6680/6680 [==============================] - 3s 407us/step - loss: 0.0276 - acc: 0.9928 - val_loss: 0.7261 - val_acc: 0.8240\n",
      "\n",
      "Epoch 00010: val_loss did not improve\n",
      "Epoch 11/20\n",
      "6680/6680 [==============================] - 3s 407us/step - loss: 0.0214 - acc: 0.9951 - val_loss: 0.7649 - val_acc: 0.8216\n",
      "\n",
      "Epoch 00011: val_loss did not improve\n",
      "Epoch 12/20\n",
      "6680/6680 [==============================] - 3s 416us/step - loss: 0.0165 - acc: 0.9961 - val_loss: 0.7535 - val_acc: 0.8204\n",
      "\n",
      "Epoch 00012: val_loss did not improve\n",
      "Epoch 13/20\n",
      "6680/6680 [==============================] - 2s 342us/step - loss: 0.0135 - acc: 0.9963 - val_loss: 0.8056 - val_acc: 0.8228\n",
      "\n",
      "Epoch 00013: val_loss did not improve\n",
      "Epoch 14/20\n",
      "6680/6680 [==============================] - 3s 420us/step - loss: 0.0121 - acc: 0.9967 - val_loss: 0.8290 - val_acc: 0.8120\n",
      "\n",
      "Epoch 00014: val_loss did not improve\n",
      "Epoch 15/20\n",
      "6680/6680 [==============================] - 3s 423us/step - loss: 0.0099 - acc: 0.9972 - val_loss: 0.8233 - val_acc: 0.8263\n",
      "\n",
      "Epoch 00015: val_loss did not improve\n",
      "Epoch 16/20\n",
      "6680/6680 [==============================] - 3s 403us/step - loss: 0.0099 - acc: 0.9972 - val_loss: 0.8746 - val_acc: 0.8156\n",
      "\n",
      "Epoch 00016: val_loss did not improve\n",
      "Epoch 17/20\n",
      "6680/6680 [==============================] - 3s 425us/step - loss: 0.0071 - acc: 0.9987 - val_loss: 0.8154 - val_acc: 0.8311\n",
      "\n",
      "Epoch 00017: val_loss did not improve\n",
      "Epoch 18/20\n",
      "6680/6680 [==============================] - 3s 421us/step - loss: 0.0066 - acc: 0.9987 - val_loss: 0.8674 - val_acc: 0.8299\n",
      "\n",
      "Epoch 00018: val_loss did not improve\n",
      "Epoch 19/20\n",
      "6680/6680 [==============================] - 2s 328us/step - loss: 0.0061 - acc: 0.9987 - val_loss: 0.9107 - val_acc: 0.8275\n",
      "\n",
      "Epoch 00019: val_loss did not improve\n",
      "Epoch 20/20\n",
      "6680/6680 [==============================] - 3s 404us/step - loss: 0.0056 - acc: 0.9985 - val_loss: 0.9210 - val_acc: 0.8251\n",
      "\n",
      "Epoch 00020: val_loss did not improve\n"
     ]
    },
    {
     "data": {
      "text/plain": [
       "<keras.callbacks.History at 0x7f55d271f5d0>"
      ]
     },
     "execution_count": 82,
     "metadata": {},
     "output_type": "execute_result"
    }
   ],
   "source": [
    "checkpointer = ModelCheckpoint(filepath='saved_models/weights.best.ResNet50.hdf5', \n",
    "                               verbose=1, save_best_only=True)\n",
    "\n",
    "ResNet50_model2.fit(train_ResNet50, train_targets, \n",
    "          validation_data=(valid_ResNet50, valid_targets),\n",
    "          epochs=20, batch_size=20, callbacks=[checkpointer], verbose=1)"
   ]
  },
  {
   "cell_type": "markdown",
   "metadata": {},
   "source": [
    "### (IMPLEMENTATION) Load the Model with the Best Validation Loss"
   ]
  },
  {
   "cell_type": "code",
   "execution_count": 83,
   "metadata": {
    "collapsed": true
   },
   "outputs": [],
   "source": [
    "ResNet50_model2.load_weights('saved_models/weights.best.ResNet50.hdf5')"
   ]
  },
  {
   "cell_type": "markdown",
   "metadata": {},
   "source": [
    "### (IMPLEMENTATION) Test the Model\n",
    "\n",
    "Try out your model on the test dataset of dog images. Ensure that your test accuracy is greater than 60%."
   ]
  },
  {
   "cell_type": "code",
   "execution_count": 84,
   "metadata": {
    "collapsed": true
   },
   "outputs": [
    {
     "name": "stdout",
     "output_type": "stream",
     "text": [
      "Test accuracy: 80.0000%\n"
     ]
    }
   ],
   "source": [
    "ResNet50_predictions = [np.argmax(ResNet50_model2.predict(np.expand_dims(feature, axis=0))) for feature in test_ResNet50]\n",
    "\n",
    "# report test accuracy\n",
    "test_accuracy = 100*np.sum(np.array(ResNet50_predictions)==np.argmax(test_targets, axis=1))/len(ResNet50_predictions)\n",
    "print('Test accuracy: %.4f%%' % test_accuracy)"
   ]
  },
  {
   "cell_type": "markdown",
   "metadata": {},
   "source": [
    "### (IMPLEMENTATION) Predict Dog Breed with the Model\n",
    "\n",
    "Write a function that takes an image path as input and returns the dog breed (`Affenpinscher`, `Afghan_hound`, etc) that is predicted by your model.  \n",
    "\n",
    "Similar to the analogous function in Step 5, your function should have three steps:\n",
    "1. Extract the bottleneck features corresponding to the chosen CNN model.\n",
    "2. Supply the bottleneck features as input to the model to return the predicted vector.  Note that the argmax of this prediction vector gives the index of the predicted dog breed.\n",
    "3. Use the `dog_names` array defined in Step 0 of this notebook to return the corresponding breed.\n",
    "\n",
    "The functions to extract the bottleneck features can be found in `extract_bottleneck_features.py`, and they have been imported in an earlier code cell.  To obtain the bottleneck features corresponding to your chosen CNN architecture, you need to use the function\n",
    "\n",
    "    extract_{network}\n",
    "    \n",
    "where `{network}`, in the above filename, should be one of `VGG19`, `Resnet50`, `InceptionV3`, or `Xception`."
   ]
  },
  {
   "cell_type": "code",
   "execution_count": 85,
   "metadata": {
    "collapsed": true
   },
   "outputs": [],
   "source": [
    "### TODO: Write a function that takes a path to an image as input\n",
    "### and returns the dog breed that is predicted by the model.\n",
    "\n",
    "def predict_breed(img_path):\n",
    "    bottleneck_feature = extract_Resnet50(path_to_tensor(img_path))\n",
    "    predicted_vector = ResNet50_model2.predict(bottleneck_feature)\n",
    "    return dog_names[np.argmax(predicted_vector)]"
   ]
  },
  {
   "cell_type": "code",
   "execution_count": 92,
   "metadata": {},
   "outputs": [
    {
     "data": {
      "text/plain": [
       "'Basset_hound'"
      ]
     },
     "execution_count": 92,
     "metadata": {},
     "output_type": "execute_result"
    }
   ],
   "source": [
    "predict_breed('dogImages/test/015.Basset_hound/Basset_hound_01059.jpg')"
   ]
  },
  {
   "cell_type": "markdown",
   "metadata": {},
   "source": [
    "---\n",
    "<a id='step6'></a>\n",
    "## Step 6: Write your Algorithm\n",
    "\n",
    "Write an algorithm that accepts a file path to an image and first determines whether the image contains a human, dog, or neither.  Then,\n",
    "- if a __dog__ is detected in the image, return the predicted breed.\n",
    "- if a __human__ is detected in the image, return the resembling dog breed.\n",
    "- if __neither__ is detected in the image, provide output that indicates an error.\n",
    "\n",
    "You are welcome to write your own functions for detecting humans and dogs in images, but feel free to use the `face_detector` and `dog_detector` functions developed above.  You are __required__ to use your CNN from Step 5 to predict dog breed.  \n",
    "\n",
    "Some sample output for our algorithm is provided below, but feel free to design your own user experience!\n",
    "\n",
    "![Sample Human Output](images/sample_human_output.png)\n",
    "\n",
    "\n",
    "### (IMPLEMENTATION) Write your Algorithm"
   ]
  },
  {
   "cell_type": "code",
   "execution_count": 95,
   "metadata": {
    "collapsed": true
   },
   "outputs": [],
   "source": [
    "### TODO: Write your algorithm.\n",
    "### Feel free to use as many code cells as needed.\n",
    "def detect(imgpath):\n",
    "    if dog_detector(imgpath):\n",
    "        print(\"hello, dog\")\n",
    "        predicted = predict_breed(imgpath)\n",
    "        print(predicted)\n",
    "    elif face_detector(imgpath):\n",
    "        print(\"hello, human\")\n",
    "        predicted = predict_breed(imgpath)\n",
    "        print(predicted)\n",
    "    else:\n",
    "        print(\"Error,No dog or human\")"
   ]
  },
  {
   "cell_type": "markdown",
   "metadata": {},
   "source": [
    "---\n",
    "<a id='step7'></a>\n",
    "## Step 7: Test Your Algorithm\n",
    "\n",
    "In this section, you will take your new algorithm for a spin!  What kind of dog does the algorithm think that __you__ look like?  If you have a dog, does it predict your dog's breed accurately?  If you have a cat, does it mistakenly think that your cat is a dog?\n",
    "\n",
    "### (IMPLEMENTATION) Test Your Algorithm on Sample Images!\n",
    "\n",
    "Test your algorithm at least six images on your computer.  Feel free to use any images you like.  Use at least two human and two dog images.  \n",
    "\n",
    "__Question 6:__ Is the output better than you expected :) ?  Or worse :( ?  Provide at least three possible points of improvement for your algorithm.\n",
    "\n",
    "__Answer:__ "
   ]
  },
  {
   "cell_type": "code",
   "execution_count": 96,
   "metadata": {
    "collapsed": true
   },
   "outputs": [
    {
     "name": "stdout",
     "output_type": "stream",
     "text": [
      "hello, dog\n",
      "Basset_hound\n",
      "hello, dog\n",
      "Great_pyrenees\n",
      "hello, human\n",
      "French_bulldog\n",
      "hello, human\n",
      "Irish_water_spaniel\n",
      "Error,No dog or human\n",
      "Error,No dog or human\n"
     ]
    }
   ],
   "source": [
    "## TODO: Execute your algorithm from Step 6 on\n",
    "## at least 6 images on your computer.\n",
    "## Feel free to use as many code cells as needed.\n",
    "img1 = 'dogImages/test/015.Basset_hound/Basset_hound_01059.jpg'\n",
    "img2 = 'dogImages/test/095.Kuvasz/Kuvasz_06409.jpg'\n",
    "img3 = 'lfw/Jimmy_Kimmel/Jimmy_Kimmel_0002.jpg'\n",
    "img4 = 'lfw/Will_Ferrell/Will_Ferrell_0001.jpg'\n",
    "img5 = 'tryImages/Pixiebob-cat.jpg'\n",
    "img6 = 'tryImages/House_sparrow04.jpg'\n",
    "\n",
    "detect(img1)\n",
    "detect(img2)\n",
    "detect(img3)\n",
    "detect(img4)\n",
    "detect(img5)\n",
    "detect(img6)"
   ]
  },
  {
   "cell_type": "markdown",
   "metadata": {},
   "source": [
    "\n",
    "** Anwer **\n",
    "the output close for to what I expect \n",
    "\n",
    "there was an error should predict dog breed = 'Kuvasz' but predict breed = 'Great_pyrenees' but for images there are look like\n",
    "\n",
    "in human to predict what kind of dog is close to we can use multiple image for the person to predict what kind of dog is close to \n",
    "\n",
    "I can increase number of epoch to increas accuray"
   ]
  }
 ],
 "metadata": {
  "anaconda-cloud": {},
  "kernelspec": {
   "display_name": "cv",
   "language": "python",
   "name": "cv"
  },
  "language_info": {
   "codemirror_mode": {
    "name": "ipython",
    "version": 2
   },
   "file_extension": ".py",
   "mimetype": "text/x-python",
   "name": "python",
   "nbconvert_exporter": "python",
   "pygments_lexer": "ipython2",
   "version": "2.7.12"
  }
 },
 "nbformat": 4,
 "nbformat_minor": 2
}
